{
 "cells": [
  {
   "cell_type": "markdown",
   "metadata": {},
   "source": [
    "## import package"
   ]
  },
  {
   "cell_type": "code",
   "execution_count": null,
   "metadata": {},
   "outputs": [],
   "source": [
    "# import package\n",
    "import tensorflow as tf\n",
    "import numpy as np\n",
    "import pandas as pd\n",
    "import matplotlib.pyplot as plt\n",
    "from sklearn import preprocessing\n",
    "from sklearn.preprocessing import StandardScaler\n",
    "from tensorflow.keras.models import Sequential, load_model\n",
    "from tensorflow.keras.layers import GRU, LSTM, Dense, Dropout, LeakyReLU\n",
    "from tensorflow.python.keras.callbacks import EarlyStopping\n",
    "from sklearn.metrics import mean_squared_error\n",
    "import datetime\n",
    "import inspect\n",
    "from tensorflow.keras.layers import ELU"
   ]
  },
  {
   "cell_type": "markdown",
   "metadata": {},
   "source": [
    "## train, valid 데이터 불러오기"
   ]
  },
  {
   "cell_type": "code",
   "execution_count": 40,
   "metadata": {},
   "outputs": [],
   "source": [
    "# 데이터 불러오기\n",
    "train_raw_df = pd.read_csv('e:/kma/data/TRAIN_nottree_with_파생변수0802.csv', encoding='utf8')\n",
    "train_raw_df.drop(['Unnamed: 0', 'Unnamed: 0.1'], axis=1, inplace=True)\n",
    "col_list = train_raw_df.columns\n",
    "\n",
    "test_raw_df = pd.read_csv('e:/kma/data/TEST_with_파생변수0802.csv', encoding='utf8')\n",
    "test_raw_df = test_raw_df[col_list]\n",
    "\n",
    "\n",
    "full_raw_df = pd.concat([train_raw_df, test_raw_df], ignore_index=True)\n",
    "full_raw_df = full_raw_df.astype({'yyyymmdd':'str'})\n",
    "full_raw_df['yyyymmdd'] = pd.to_datetime(full_raw_df['yyyymmdd'])\n",
    "full_raw_df\n",
    "\n",
    "\n",
    "add_list = set(full_raw_df['add'])\n",
    "indep_cols = full_raw_df.columns.difference(['yyyymmdd', 'add', 'sex', 'frequency'])"
   ]
  },
  {
   "cell_type": "code",
   "execution_count": null,
   "metadata": {},
   "outputs": [],
   "source": [
    "sido = '서울'\n",
    "sex = 1\n",
    "condition = (full_raw_df['add']==sido) & (full_raw_df['sex']==sex)        \n",
    "tmp = full_raw_df.copy()[condition]\n",
    "\n",
    "\n",
    "import seaborn as sns\n",
    "sns.set_theme(style=\"darkgrid\")\n",
    "ax = sns.countplot(x=\"frequency\", data=tmp)\n",
    "\n",
    "frq_size = tmp.groupby(['frequency']).size()\n",
    "frq_ratio = frq_size/frq_size.sum()\n",
    "frq_ratio"
   ]
  },
  {
   "cell_type": "markdown",
   "metadata": {},
   "source": [
    "## def"
   ]
  },
  {
   "cell_type": "code",
   "execution_count": null,
   "metadata": {},
   "outputs": [],
   "source": [
    "# 그래프 타이틀 한글인코딩\n",
    "from matplotlib import font_manager, rc\n",
    "font_path = \"C:/Windows/Fonts/NGULIM.TTF\"\n",
    "font = font_manager.FontProperties(fname=font_path).get_name()\n",
    "rc('font', family=font)\n",
    "\n",
    "\n",
    "# 그래프 확인\n",
    "def graph(actual, pred, model_nm, val_or_test='val'):\n",
    "    if val_or_test=='val':\n",
    "        x_var = tmp[-731:-366].yyyymmdd\n",
    "    elif val_or_test=='test':\n",
    "        x_var = tmp[-366:].yyyymmdd\n",
    "    else:\n",
    "        print('error')\n",
    "                    \n",
    "    plt.figure(figsize=(12, 6))\n",
    "    plt.xlim([min(x_var), max(x_var)])\n",
    "    # plt.yticks([i for i in range(0, 14)])\n",
    "    plt.plot(x_var, actual, color=\"dodgerblue\", marker='o', markersize=1.5, label='actual', linewidth=0.3)\n",
    "    if np.array_equal(actual, pred):\n",
    "        print(' ')\n",
    "    else:\n",
    "        plt.plot(x_var, pred, color=\"violet\", marker='o', markersize=1, label='prediction', linewidth=0.2)\n",
    "    plt.grid(color='grey', linestyle='--', linewidth='0.1')\n",
    "    plt.legend(loc='best', markerscale=3)\n",
    "    plt.title('{0}, {1}, {2}'.format(sido, sex, model_nm))\n",
    "    plt.tight_layout()\n",
    "    plt.savefig('e:/kma/image/{0}/{1}_{2}_{3}_{4}.png'.format(val_or_test, sido, sex, model_nm, nowDatetime),\n",
    "                facecolor='#eeeeee',\n",
    "                edgecolor='black',\n",
    "                format='png', dpi=200)\n",
    "    plt.show()"
   ]
  },
  {
   "cell_type": "code",
   "execution_count": null,
   "metadata": {},
   "outputs": [],
   "source": [
    "# model 세부내용 기록\n",
    "def record_model_setting(func_nm):\n",
    "    \n",
    "    get_source = inspect.getsource(func_nm)\n",
    "\n",
    "    file = open('e:/kma/model/{0}_{1}_{2}_{3}.txt'.format(model_nm, sido, sex, nowDatetime), \"w\") \n",
    "    file.write(get_source)\n",
    "    file.close()"
   ]
  },
  {
   "cell_type": "code",
   "execution_count": 68,
   "metadata": {},
   "outputs": [],
   "source": [
    "# 모델 설정\n",
    "\n",
    "from tensorflow.keras import backend as K\n",
    "\n",
    "def root_mean_squared_error(y_true, y_pred):\n",
    "        return K.sqrt(K.mean(K.square(y_pred - y_true))) \n",
    "\n",
    "\n",
    "def make_multiclass_nn(x, y):\n",
    "        input_dim = x.shape[1]\n",
    "        output_dim = y.shape[1]\n",
    "\n",
    "        model = Sequential()\n",
    "        model.add(Dense(256, input_dim=input_dim, activation='relu'))\n",
    "        model.add(Dropout(0.3))\n",
    "        model.add(Dense(128, activation='relu'))\n",
    "        model.add(Dense(128))\n",
    "        model.add(ELU(alpha=0.05))\n",
    "        model.add(Dropout(0.2))\n",
    "        model.add(Dense(64, activation='relu'))\n",
    "        model.add(Dropout(0.2))\n",
    "        model.add(Dense(64, activation='relu'))       \n",
    "        model.add(Dense(output_dim, activation='softmax'))\n",
    "        \n",
    "        return model"
   ]
  },
  {
   "cell_type": "code",
   "execution_count": 69,
   "metadata": {},
   "outputs": [],
   "source": [
    "# 최저기온 + 최저기압 + 요일\n",
    "indep_cols = ['min_ta_x', 'min_ta_y', 'min_ps',\n",
    "              'weekday_Fri', 'weekday_Mon', 'weekday_Sat',\n",
    "       'weekday_Thu', 'weekday_Tue', 'weekday_Wed']"
   ]
  },
  {
   "cell_type": "markdown",
   "metadata": {},
   "source": [
    "## 시도별 반복 수행"
   ]
  },
  {
   "cell_type": "code",
   "execution_count": null,
   "metadata": {},
   "outputs": [],
   "source": [
    "now = datetime.datetime.now()\n",
    "nowDatetime = now.strftime('%m%d_%H%M')\n",
    "\n",
    "result = pd.DataFrame(columns=['sido', 'sex', 'rmse'])\n",
    "LB_result = pd.DataFrame(columns=['yyyymmdd', 'sido', 'sex', 'frequency'])\n",
    "\n",
    "\n",
    "# sido = '서울'\n",
    "# sex = 1\n",
    "for sido in add_list: # ('광주','서울'):\n",
    "    for sex in (1,2):\n",
    "                #-------------------------------------------------------------------------------------------#\n",
    "                print(\"============================\", sido, sex, \"============================\")\n",
    "                condition = (full_raw_df['add']==sido) & (full_raw_df['sex']==sex)        \n",
    "                tmp = full_raw_df.copy()[condition]\n",
    "                tmp.reset_index(level=0, inplace=True, drop=True)\n",
    "\n",
    "                # one-hot encoding\n",
    "                Y = tmp['frequency']\n",
    "                le = preprocessing.LabelEncoder()\n",
    "                le.fit(Y)\n",
    "                Y = le.transform(Y)\n",
    "                Y_encoded = tf.keras.utils.to_categorical(Y)\n",
    "\n",
    "                # scaling\n",
    "                scaler_x = StandardScaler()\n",
    "                scaled_df = scaler_x.fit_transform(tmp[indep_cols])\n",
    "                scaled_df = pd.DataFrame(scaled_df, columns=indep_cols)\n",
    "\n",
    "                # train, test 분리\n",
    "                x_train = scaled_df[0:-731]\n",
    "                y_train = Y_encoded[0:-731]\n",
    "\n",
    "                x_valid = scaled_df[-731:-366]\n",
    "                y_valid = Y_encoded[-731:-366]\n",
    "\n",
    "                x_test = scaled_df[-366:]\n",
    "\n",
    "\n",
    "                # model 생성\n",
    "                model_nm = \"multiclass_nn\"\n",
    "                model = make_multiclass_nn(x_train, y_train)\n",
    "                record_model_setting(make_multiclass_nn)\n",
    "\n",
    "                # 모델 컴파일\n",
    "                model.compile(loss='categorical_crossentropy',#\n",
    "                        optimizer='rmsprop',\n",
    "                        metrics=[root_mean_squared_error])\n",
    "\n",
    "                # 모델 학습\n",
    "                early_stop = EarlyStopping(monitor='val_loss', patience=3)\n",
    "                history = model.fit(x_train, y_train,\n",
    "                        validation_data=(x_valid, y_valid),\n",
    "                        epochs=10, batch_size=128,\n",
    "                        verbose=1,\n",
    "                        callbacks=[early_stop])\n",
    "\n",
    "                model.save('e:/kma/model/{0}_{1}_{2}_{3}.h5'.format(model_nm, sido, sex, nowDatetime))\n",
    "\n",
    "                print(\"\\n Accuracy: %.4f\" % (model.evaluate(scaled_df, Y_encoded)[1]))\n",
    "\n",
    "                # 예측\n",
    "                pred_valid = np.argmax(model.predict(x_valid), axis=1)\n",
    "\n",
    "                # 그래프 확인\n",
    "                graph(tmp.frequency[-731:-366], pred_valid, model_nm)\n",
    "\n",
    "                # rmse\n",
    "                rmse = mean_squared_error(tmp.frequency[-731:-366], pred_valid, squared=False)\n",
    "                print(rmse)\n",
    "                result_tmp = pd.DataFrame([[sido, sex, rmse]], columns=['sido', 'sex', 'rmse'])\n",
    "                result = pd.concat([result, result_tmp])\n",
    "\n",
    "\n",
    "\n",
    "                # 2016 test---------------------------------------------\n",
    "                pred_test = np.argmax(model.predict(x_test), axis=1)\n",
    "                graph(tmp.frequency[-366:], pred_test, model_nm+'_LB', 'test')\n",
    "\n",
    "                LB_result_tmp = pd.DataFrame({'yyyymmdd':tmp[-366:].yyyymmdd, 'sido':sido, 'sex':sex, 'frequency':pred_test})\n",
    "                LB_result = pd.concat([LB_result, LB_result_tmp])\n",
    "                #-------------------------------------------------------\n",
    "                        \n",
    "                        \n",
    "                #-------------------------------------------------------------------------------------------#\n",
    "# \n",
    "# rmse 결과 저장\n",
    "result.to_csv('e:/kma/rmse/{0}_{1}.csv'.format(model_nm, nowDatetime), encoding = 'utf-8-sig')\n",
    "\n",
    "\n",
    "# 2016 test셋 예측 결과 저장\n",
    "LB_result.to_csv('e:/kma/data/leaderboard/{0}_{1}.csv'.format(model_nm, nowDatetime), encoding = 'utf-8-sig')"
   ]
  },
  {
   "cell_type": "code",
   "execution_count": null,
   "metadata": {},
   "outputs": [],
   "source": [
    "# 6 훈련 과정 시각화 (정확도)\n",
    "plt.plot(history.history['loss'])\n",
    "plt.plot(history.history['val_loss'])\n",
    "plt.title('Model loss')\n",
    "plt.xlabel('Epoch')\n",
    "plt.ylabel('loss')\n",
    "plt.legend(['Train', 'Valid'], loc='upper left')\n",
    "plt.show()\n"
   ]
  },
  {
   "cell_type": "code",
   "execution_count": null,
   "metadata": {},
   "outputs": [],
   "source": [
    "\n",
    "# 7 훈련 과정 시각화 (손실)\n",
    "plt.plot(history.history['loss'])\n",
    "plt.plot(history.history['val_loss'])\n",
    "plt.title('Model loss')\n",
    "plt.xlabel('Epoch')\n",
    "plt.ylabel('Loss')\n",
    "plt.legend(['Train', 'Test'], loc='upper left')\n",
    "plt.show()"
   ]
  },
  {
   "cell_type": "markdown",
   "metadata": {},
   "source": [
    "## 리더보드 제출"
   ]
  },
  {
   "cell_type": "code",
   "execution_count": null,
   "metadata": {},
   "outputs": [],
   "source": [
    "# 리더보드 제출용\n",
    "\n",
    "# 검증데이터 불러오기\n",
    "raw_df = pd.read_csv('e:/kma/data/TEST_tree_with_파생변수_euc-kr0725.csv', encoding='cp949')\n",
    "raw_df.drop(['Unnamed: 0', 'frequency'], axis=1, inplace=True)\n",
    "raw_df = raw_df.astype({'yyyymmdd':'str'})\n",
    "raw_df['yyyymmdd'] = pd.to_datetime(raw_df['yyyymmdd'])\n",
    "# raw_df = pd.get_dummies(raw_df, columns=['weekday', 'season'])\n",
    "\n",
    "# indep_cols = raw_df.columns.difference(['yyyymmdd', 'add', 'sex', 'frequency'])\n",
    "\n",
    "# 검증데이터셋 area 순서\n",
    "area_list = ('경기', '강원', '인천', '충북', '서울', '광주', '경북', '대구', '충남', '세종', '전남', '경남', '전북', '대전', '울산', '부산', '제주')"
   ]
  },
  {
   "cell_type": "code",
   "execution_count": null,
   "metadata": {},
   "outputs": [],
   "source": [
    "# nowDatetime = '0725_0155'\n",
    "result = pd.DataFrame(columns=['yyyymmdd', 'sido', 'sex', 'frequency'])\n",
    "\n",
    "# sido = '서울'\n",
    "for sido in area_list: # ('광주','서울'):\n",
    "# sex = 1\n",
    "    for sex in (1,2):\n",
    "#-------------------------------------------------------------------------------------------#\n",
    "        print(\"============================\", sido, sex, \"============================\")\n",
    "        condition = (raw_df['add']==sido) & (raw_df['sex']==sex)        \n",
    "        tmp = raw_df.copy()[condition]\n",
    "        # print(tmp.head(2))\n",
    "\n",
    "        # scaling\n",
    "        scaler_x = StandardScaler()\n",
    "        scaled_df = scaler_x.fit_transform(tmp[indep_cols])\n",
    "        scaled_df = pd.DataFrame(scaled_df, columns=indep_cols)\n",
    "\n",
    "        # model 불러오기\n",
    "        model_nm = 'multiclass_nn'\n",
    "        model = load_model('e:/kma/model/{0}_{1}_{2}_{3}.h5'.format(model_nm, sido, sex, nowDatetime))\n",
    "\n",
    "        # 예측\n",
    "        pred = np.argmax(model.predict(scaled_df), axis=1)\n",
    "\n",
    "        # 그래프 확인\n",
    "        graph(pred, pred, model_nm+'_LB')\n",
    "\n",
    "        #-------------------------------------------------------------------------------------------#\n",
    "        result_tmp = pd.DataFrame({'yyyymmdd':tmp.yyyymmdd, 'sido':sido, 'sex':sex, 'frequency':pred})\n",
    "        result = result.append(result_tmp)\n",
    "#-------------------------------------------------------------------------------------------#\n",
    "# \n",
    "# 예측 결과 저장\n",
    "result.to_csv('e:/kma/data/leaderboard/{0}_{1}.csv'.format(model_nm, nowDatetime), encoding = 'utf-8-sig')"
   ]
  },
  {
   "cell_type": "code",
   "execution_count": null,
   "metadata": {},
   "outputs": [],
   "source": [
    "multiclass = pd.read_csv('e:/kma/data/leaderboard/multiclass_nn_0727_0035.csv')\n",
    "multiclass"
   ]
  },
  {
   "cell_type": "code",
   "execution_count": null,
   "metadata": {},
   "outputs": [],
   "source": [
    "# sido = '서울'\n",
    "# sex = 1\n",
    "\n",
    "for sido in area_list:\n",
    "    for sex in (1, 2):\n",
    "        condition = (multiclass['sido']==sido)&(multiclass['sex']==1)&(multiclass['yyyymmdd']=='2016-02-28')\n",
    "        mc_tmp = multiclass.copy()[condition]\n",
    "        mc_tmp['yyyymmdd']='2016-02-29'\n",
    "\n",
    "        multiclass = pd.concat([multiclass, mc_tmp])"
   ]
  },
  {
   "cell_type": "code",
   "execution_count": null,
   "metadata": {},
   "outputs": [],
   "source": [
    "multiclass.reset_index(level=0, inplace=True)"
   ]
  },
  {
   "cell_type": "code",
   "execution_count": null,
   "metadata": {},
   "outputs": [],
   "source": [
    "multiclass.to_csv('e:/kma/data/leaderboard/{0}_{1}_0229.csv'.format(model_nm, nowDatetime), encoding = 'utf-8-sig')"
   ]
  }
 ],
 "metadata": {
  "kernelspec": {
   "display_name": "Python 3.9.12 ('dacon_fds_env')",
   "language": "python",
   "name": "python3"
  },
  "language_info": {
   "codemirror_mode": {
    "name": "ipython",
    "version": 3
   },
   "file_extension": ".py",
   "mimetype": "text/x-python",
   "name": "python",
   "nbconvert_exporter": "python",
   "pygments_lexer": "ipython3",
   "version": "3.9.12"
  },
  "orig_nbformat": 4,
  "vscode": {
   "interpreter": {
    "hash": "f2313ecc605b4a02f05a6cbc920ffc238b69230fea0fcafd1cb47aefb9279aac"
   }
  }
 },
 "nbformat": 4,
 "nbformat_minor": 2
}
